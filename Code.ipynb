{
 "cells": [
  {
   "cell_type": "code",
   "execution_count": 1,
   "id": "cdc81be1-0a0b-4058-a917-63e27695d5f4",
   "metadata": {},
   "outputs": [],
   "source": [
    "from selenium import webdriver\n",
    "from selenium.webdriver.common.by import By\n",
    "import pandas as pd\n",
    "import time\n",
    "from tqdm import tqdm\n",
    "from random import randint\n",
    "from time import sleep\n",
    "\n",
    "\n"
   ]
  },
  {
   "cell_type": "code",
   "execution_count": 2,
   "id": "659263dd-e1fc-4362-96cd-1f04295aaf97",
   "metadata": {},
   "outputs": [],
   "source": [
    "url = 'https://www.alphavantage.co/query?function=TIME_SERIES_DAILY&symbol=AAPL&datatype=csv&outputsize=compact&apikey=9YUPW0WRVEKUFF9L'\n",
    "df_stock = pd.read_csv(url)\n",
    "df_stock = df_stock.drop(columns=['volume'])\n",
    "df_stock.to_csv('stock_data.csv', index=False)\n"
   ]
  },
  {
   "cell_type": "code",
   "execution_count": 136,
   "id": "6dce4d29-a761-4c7c-8bb9-62880cdeb7a2",
   "metadata": {},
   "outputs": [],
   "source": [
    "driver = webdriver.Chrome()\n"
   ]
  },
  {
   "cell_type": "code",
   "execution_count": 137,
   "id": "f1909259-9cb8-4abc-bd9c-ebcd061213ea",
   "metadata": {},
   "outputs": [],
   "source": [
    "url = \"https://trendspider.com/markets/congress-trading/\"\n",
    "driver.get(url)\n",
    "time.sleep(5)\n"
   ]
  },
  {
   "cell_type": "code",
   "execution_count": 138,
   "id": "e23a971f-113f-4a6c-9433-844f98d7175c",
   "metadata": {},
   "outputs": [],
   "source": [
    "headers = driver.find_elements(By.CSS_SELECTOR, \"#main-content table thead th\")\n",
    "header_names = [header.text.strip() for header in headers]\n"
   ]
  },
  {
   "cell_type": "code",
   "execution_count": 139,
   "id": "6d9f2326-4a60-4637-b611-7de08d9a5ed5",
   "metadata": {},
   "outputs": [],
   "source": [
    "data = []\n",
    "rows = driver.find_elements(By.CSS_SELECTOR, \"#main-content table tbody tr\")\n",
    "\n",
    "for row in rows:\n",
    "    cols = row.find_elements(By.TAG_NAME, \"td\")\n",
    "    data.append([col.text.strip().replace('\\n', ' ') for col in cols])"
   ]
  },
  {
   "cell_type": "code",
   "execution_count": 140,
   "id": "c319b3ae-2f9a-499b-8a48-b53bd7e69054",
   "metadata": {},
   "outputs": [
    {
     "name": "stderr",
     "output_type": "stream",
     "text": [
      "100%|██████████| 809/809 [1:58:56<00:00,  8.82s/it]  \n"
     ]
    }
   ],
   "source": [
    "for i in tqdm(range(2, 811)):\n",
    "    check = f'[aria-label=\"Current Page, Page {i}.\"]'\n",
    "    site = f'[aria-label=\"Go to page {i}.\"]'\n",
    "    while driver.find_elements(By.CSS_SELECTOR, check) == []:\n",
    "        try:\n",
    "            driver.find_elements(By.CSS_SELECTOR, site)[0].click()\n",
    "        except Exception as e:\n",
    "            time.sleep(randint(10,20)/10)\n",
    "    \n",
    "\n",
    "    sleep(randint(10,20)/10)\n",
    "    rows = driver.find_elements(By.CSS_SELECTOR, \"#main-content table tbody tr\")\n",
    "    \n",
    "    sleep(randint(10,20)/10)\n",
    "    for row in rows:\n",
    "        cols = row.find_elements(By.TAG_NAME, \"td\")\n",
    "        data.append([col.text.strip().replace('\\n', ' ') for col in cols])"
   ]
  },
  {
   "cell_type": "code",
   "execution_count": 141,
   "id": "44d72557-6bd5-4618-814d-fd2359b01bfb",
   "metadata": {},
   "outputs": [],
   "source": [
    "df = pd.DataFrame(data, columns=header_names)\n",
    "df[['Type', 'Amount']] = df['Transaction'].str.extract(r'(\\w+)\\s\\$(.*)')\n",
    "df = df.drop(columns=['Transaction', 'Excess return *'])\n"
   ]
  },
  {
   "cell_type": "code",
   "execution_count": 181,
   "id": "21175317-4657-4494-abce-6ef592572d93",
   "metadata": {},
   "outputs": [],
   "source": [
    "#df.to_csv('senators_trading.csv', index=False)\n",
    "driver.quit()\n"
   ]
  },
  {
   "cell_type": "code",
   "execution_count": 21,
   "id": "84b31715-54a8-4b66-a4fd-1c6577ef92d3",
   "metadata": {},
   "outputs": [],
   "source": [
    "df = pd.read_csv('senators_trading.csv')"
   ]
  },
  {
   "cell_type": "markdown",
   "id": "541894b8",
   "metadata": {},
   "source": [
    "UPDATE"
   ]
  },
  {
   "cell_type": "code",
   "execution_count": 177,
   "id": "983e7dcc-ed0c-4b72-8e15-077ce0c5f5d2",
   "metadata": {},
   "outputs": [],
   "source": [
    "data_trading = pd.read_csv(\"senators_trading.csv\")"
   ]
  },
  {
   "cell_type": "code",
   "execution_count": 182,
   "id": "604d40b8",
   "metadata": {},
   "outputs": [],
   "source": [
    "data_trading = data_trading.drop(index=data_trading.index[:100])\n"
   ]
  },
  {
   "cell_type": "code",
   "execution_count": 183,
   "id": "5a931d12",
   "metadata": {},
   "outputs": [],
   "source": [
    "driver = webdriver.Chrome()"
   ]
  },
  {
   "cell_type": "code",
   "execution_count": 184,
   "id": "a2892fd1",
   "metadata": {},
   "outputs": [],
   "source": [
    "url = \"https://trendspider.com/markets/congress-trading/\"\n",
    "driver.get(url)\n",
    "time.sleep(5)\n"
   ]
  },
  {
   "cell_type": "code",
   "execution_count": 185,
   "id": "c2a12acb",
   "metadata": {},
   "outputs": [],
   "source": [
    "headers = driver.find_elements(By.CSS_SELECTOR, \"#main-content table thead th\")\n",
    "header_names = [header.text.strip() for header in headers]"
   ]
  },
  {
   "cell_type": "code",
   "execution_count": 186,
   "id": "abf5265e",
   "metadata": {},
   "outputs": [],
   "source": [
    "data = []\n",
    "rows = driver.find_elements(By.CSS_SELECTOR, \"#main-content table tbody tr\")\n",
    "\n",
    "for row in rows:\n",
    "    cols = row.find_elements(By.TAG_NAME, \"td\")\n",
    "    data.append([col.text.strip().replace('\\n', ' ') for col in cols])\n",
    "\n",
    "    \n",
    "\n",
    "\n",
    "df = pd.DataFrame(data, columns=header_names)\n",
    "df[['Type', 'Amount']] = df['Transaction'].str.extract(r'(\\w+)\\s\\$(.*)')\n",
    "df = df.drop(columns=['Transaction', 'Excess return *'])\n",
    "\n",
    "last_note = df.iloc[-1]"
   ]
  },
  {
   "cell_type": "code",
   "execution_count": 190,
   "id": "d36a5a7e",
   "metadata": {},
   "outputs": [],
   "source": [
    "i = 2\n",
    "while ((data_trading == last_note).all(axis=1)).any() == False:\n",
    "    data = []\n",
    "    check = f'[aria-label=\"Current Page, Page {i}.\"]'\n",
    "    site = f'[aria-label=\"Go to page {i}.\"]'\n",
    "    while driver.find_elements(By.CSS_SELECTOR, check) == []:\n",
    "        try:\n",
    "            driver.find_elements(By.CSS_SELECTOR, site)[0].click()\n",
    "        except Exception as e:\n",
    "            time.sleep(randint(10,20)/10)\n",
    "    sleep(randint(10,50)/10)\n",
    "    rows = driver.find_elements(By.CSS_SELECTOR, \"#main-content table tbody tr\")\n",
    "    \n",
    "    for row in rows:\n",
    "        cols = row.find_elements(By.TAG_NAME, \"td\")\n",
    "        data.append([col.text.strip().replace('\\n', ' ') for col in cols])\n",
    "\n",
    "    help_df = pd.DataFrame(data, columns=header_names)\n",
    "    help_df[['Type', 'Amount']] = help_df['Transaction'].str.extract(r'(\\w+)\\s\\$(.*)')\n",
    "    help_df = help_df.drop(columns=['Transaction', 'Excess return *'])\n",
    "\n",
    "    df = pd.concat([df, help_df])\n",
    "\n",
    "\n",
    "    i += 1\n",
    "    last_note = df.iloc[-1]\n",
    "\n",
    "    print(last_note)\n",
    "\n",
    "driver.quit()\n",
    "\n",
    "mask = ~df.apply(tuple, axis=1).isin(data_trading.apply(tuple, axis=1))\n",
    "result = df[mask]\n",
    "\n",
    "data_trading = pd.concat([result, data_trading])"
   ]
  }
 ],
 "metadata": {
  "kernelspec": {
   "display_name": "base",
   "language": "python",
   "name": "python3"
  },
  "language_info": {
   "codemirror_mode": {
    "name": "ipython",
    "version": 3
   },
   "file_extension": ".py",
   "mimetype": "text/x-python",
   "name": "python",
   "nbconvert_exporter": "python",
   "pygments_lexer": "ipython3",
   "version": "3.12.4"
  }
 },
 "nbformat": 4,
 "nbformat_minor": 5
}
